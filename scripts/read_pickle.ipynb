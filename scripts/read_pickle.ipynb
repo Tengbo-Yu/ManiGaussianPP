{
 "cells": [
  {
   "cell_type": "code",
   "execution_count": 5,
   "metadata": {},
   "outputs": [
    {
     "ename": "TypeError",
     "evalue": "Object of type BimanualObservation is not JSON serializable",
     "output_type": "error",
     "traceback": [
      "\u001b[0;31m---------------------------------------------------------------------------\u001b[0m",
      "\u001b[0;31mTypeError\u001b[0m                                 Traceback (most recent call last)",
      "Cell \u001b[0;32mIn[5], line 26\u001b[0m\n\u001b[1;32m     23\u001b[0m data \u001b[38;5;241m=\u001b[39m load_pickle(pickle_file_path)\n\u001b[1;32m     25\u001b[0m \u001b[38;5;66;03m# 将数据保存为 .json 文件\u001b[39;00m\n\u001b[0;32m---> 26\u001b[0m \u001b[43msave_to_json\u001b[49m\u001b[43m(\u001b[49m\u001b[43mdata\u001b[49m\u001b[43m,\u001b[49m\u001b[43m \u001b[49m\u001b[43mjson_file_path\u001b[49m\u001b[43m)\u001b[49m\n\u001b[1;32m     28\u001b[0m \u001b[38;5;28mprint\u001b[39m(\u001b[38;5;124mf\u001b[39m\u001b[38;5;124m\"\u001b[39m\u001b[38;5;124mData has been saved to \u001b[39m\u001b[38;5;132;01m{\u001b[39;00mjson_file_path\u001b[38;5;132;01m}\u001b[39;00m\u001b[38;5;124m\"\u001b[39m)\n",
      "Cell \u001b[0;32mIn[5], line 14\u001b[0m, in \u001b[0;36msave_to_json\u001b[0;34m(data, json_path)\u001b[0m\n\u001b[1;32m     11\u001b[0m \u001b[38;5;28;01mdef\u001b[39;00m \u001b[38;5;21msave_to_json\u001b[39m(data, json_path):\n\u001b[1;32m     12\u001b[0m     \u001b[38;5;28;01mwith\u001b[39;00m \u001b[38;5;28mopen\u001b[39m(json_path, \u001b[38;5;124m'\u001b[39m\u001b[38;5;124mw\u001b[39m\u001b[38;5;124m'\u001b[39m) \u001b[38;5;28;01mas\u001b[39;00m json_file:\n\u001b[1;32m     13\u001b[0m         \u001b[38;5;66;03m# 将数据序列化为 JSON 格式并写入文件\u001b[39;00m\n\u001b[0;32m---> 14\u001b[0m         \u001b[43mjson\u001b[49m\u001b[38;5;241;43m.\u001b[39;49m\u001b[43mdump\u001b[49m\u001b[43m(\u001b[49m\u001b[43mdata\u001b[49m\u001b[43m,\u001b[49m\u001b[43m \u001b[49m\u001b[43mjson_file\u001b[49m\u001b[43m,\u001b[49m\u001b[43m \u001b[49m\u001b[43mindent\u001b[49m\u001b[38;5;241;43m=\u001b[39;49m\u001b[38;5;241;43m4\u001b[39;49m\u001b[43m)\u001b[49m\n",
      "File \u001b[0;32m~/anaconda3/envs/mani2/lib/python3.9/json/__init__.py:179\u001b[0m, in \u001b[0;36mdump\u001b[0;34m(obj, fp, skipkeys, ensure_ascii, check_circular, allow_nan, cls, indent, separators, default, sort_keys, **kw)\u001b[0m\n\u001b[1;32m    173\u001b[0m     iterable \u001b[38;5;241m=\u001b[39m \u001b[38;5;28mcls\u001b[39m(skipkeys\u001b[38;5;241m=\u001b[39mskipkeys, ensure_ascii\u001b[38;5;241m=\u001b[39mensure_ascii,\n\u001b[1;32m    174\u001b[0m         check_circular\u001b[38;5;241m=\u001b[39mcheck_circular, allow_nan\u001b[38;5;241m=\u001b[39mallow_nan, indent\u001b[38;5;241m=\u001b[39mindent,\n\u001b[1;32m    175\u001b[0m         separators\u001b[38;5;241m=\u001b[39mseparators,\n\u001b[1;32m    176\u001b[0m         default\u001b[38;5;241m=\u001b[39mdefault, sort_keys\u001b[38;5;241m=\u001b[39msort_keys, \u001b[38;5;241m*\u001b[39m\u001b[38;5;241m*\u001b[39mkw)\u001b[38;5;241m.\u001b[39miterencode(obj)\n\u001b[1;32m    177\u001b[0m \u001b[38;5;66;03m# could accelerate with writelines in some versions of Python, at\u001b[39;00m\n\u001b[1;32m    178\u001b[0m \u001b[38;5;66;03m# a debuggability cost\u001b[39;00m\n\u001b[0;32m--> 179\u001b[0m \u001b[38;5;28;01mfor\u001b[39;00m chunk \u001b[38;5;129;01min\u001b[39;00m iterable:\n\u001b[1;32m    180\u001b[0m     fp\u001b[38;5;241m.\u001b[39mwrite(chunk)\n",
      "File \u001b[0;32m~/anaconda3/envs/mani2/lib/python3.9/json/encoder.py:429\u001b[0m, in \u001b[0;36m_make_iterencode.<locals>._iterencode\u001b[0;34m(o, _current_indent_level)\u001b[0m\n\u001b[1;32m    427\u001b[0m     \u001b[38;5;28;01myield\u001b[39;00m _floatstr(o)\n\u001b[1;32m    428\u001b[0m \u001b[38;5;28;01melif\u001b[39;00m \u001b[38;5;28misinstance\u001b[39m(o, (\u001b[38;5;28mlist\u001b[39m, \u001b[38;5;28mtuple\u001b[39m)):\n\u001b[0;32m--> 429\u001b[0m     \u001b[38;5;28;01myield from\u001b[39;00m _iterencode_list(o, _current_indent_level)\n\u001b[1;32m    430\u001b[0m \u001b[38;5;28;01melif\u001b[39;00m \u001b[38;5;28misinstance\u001b[39m(o, \u001b[38;5;28mdict\u001b[39m):\n\u001b[1;32m    431\u001b[0m     \u001b[38;5;28;01myield from\u001b[39;00m _iterencode_dict(o, _current_indent_level)\n",
      "File \u001b[0;32m~/anaconda3/envs/mani2/lib/python3.9/json/encoder.py:325\u001b[0m, in \u001b[0;36m_make_iterencode.<locals>._iterencode_list\u001b[0;34m(lst, _current_indent_level)\u001b[0m\n\u001b[1;32m    323\u001b[0m         \u001b[38;5;28;01melse\u001b[39;00m:\n\u001b[1;32m    324\u001b[0m             chunks \u001b[38;5;241m=\u001b[39m _iterencode(value, _current_indent_level)\n\u001b[0;32m--> 325\u001b[0m         \u001b[38;5;28;01myield from\u001b[39;00m chunks\n\u001b[1;32m    326\u001b[0m \u001b[38;5;28;01mif\u001b[39;00m newline_indent \u001b[38;5;129;01mis\u001b[39;00m \u001b[38;5;129;01mnot\u001b[39;00m \u001b[38;5;28;01mNone\u001b[39;00m:\n\u001b[1;32m    327\u001b[0m     _current_indent_level \u001b[38;5;241m-\u001b[39m\u001b[38;5;241m=\u001b[39m \u001b[38;5;241m1\u001b[39m\n",
      "File \u001b[0;32m~/anaconda3/envs/mani2/lib/python3.9/json/encoder.py:438\u001b[0m, in \u001b[0;36m_make_iterencode.<locals>._iterencode\u001b[0;34m(o, _current_indent_level)\u001b[0m\n\u001b[1;32m    436\u001b[0m         \u001b[38;5;28;01mraise\u001b[39;00m \u001b[38;5;167;01mValueError\u001b[39;00m(\u001b[38;5;124m\"\u001b[39m\u001b[38;5;124mCircular reference detected\u001b[39m\u001b[38;5;124m\"\u001b[39m)\n\u001b[1;32m    437\u001b[0m     markers[markerid] \u001b[38;5;241m=\u001b[39m o\n\u001b[0;32m--> 438\u001b[0m o \u001b[38;5;241m=\u001b[39m \u001b[43m_default\u001b[49m\u001b[43m(\u001b[49m\u001b[43mo\u001b[49m\u001b[43m)\u001b[49m\n\u001b[1;32m    439\u001b[0m \u001b[38;5;28;01myield from\u001b[39;00m _iterencode(o, _current_indent_level)\n\u001b[1;32m    440\u001b[0m \u001b[38;5;28;01mif\u001b[39;00m markers \u001b[38;5;129;01mis\u001b[39;00m \u001b[38;5;129;01mnot\u001b[39;00m \u001b[38;5;28;01mNone\u001b[39;00m:\n",
      "File \u001b[0;32m~/anaconda3/envs/mani2/lib/python3.9/json/encoder.py:179\u001b[0m, in \u001b[0;36mJSONEncoder.default\u001b[0;34m(self, o)\u001b[0m\n\u001b[1;32m    160\u001b[0m \u001b[38;5;28;01mdef\u001b[39;00m \u001b[38;5;21mdefault\u001b[39m(\u001b[38;5;28mself\u001b[39m, o):\n\u001b[1;32m    161\u001b[0m \u001b[38;5;250m    \u001b[39m\u001b[38;5;124;03m\"\"\"Implement this method in a subclass such that it returns\u001b[39;00m\n\u001b[1;32m    162\u001b[0m \u001b[38;5;124;03m    a serializable object for ``o``, or calls the base implementation\u001b[39;00m\n\u001b[1;32m    163\u001b[0m \u001b[38;5;124;03m    (to raise a ``TypeError``).\u001b[39;00m\n\u001b[0;32m   (...)\u001b[0m\n\u001b[1;32m    177\u001b[0m \n\u001b[1;32m    178\u001b[0m \u001b[38;5;124;03m    \"\"\"\u001b[39;00m\n\u001b[0;32m--> 179\u001b[0m     \u001b[38;5;28;01mraise\u001b[39;00m \u001b[38;5;167;01mTypeError\u001b[39;00m(\u001b[38;5;124mf\u001b[39m\u001b[38;5;124m'\u001b[39m\u001b[38;5;124mObject of type \u001b[39m\u001b[38;5;132;01m{\u001b[39;00mo\u001b[38;5;241m.\u001b[39m\u001b[38;5;18m__class__\u001b[39m\u001b[38;5;241m.\u001b[39m\u001b[38;5;18m__name__\u001b[39m\u001b[38;5;132;01m}\u001b[39;00m\u001b[38;5;124m \u001b[39m\u001b[38;5;124m'\u001b[39m\n\u001b[1;32m    180\u001b[0m                     \u001b[38;5;124mf\u001b[39m\u001b[38;5;124m'\u001b[39m\u001b[38;5;124mis not JSON serializable\u001b[39m\u001b[38;5;124m'\u001b[39m)\n",
      "\u001b[0;31mTypeError\u001b[0m: Object of type BimanualObservation is not JSON serializable"
     ]
    }
   ],
   "source": [
    "import pickle\n",
    "import json\n",
    "\n",
    "# 读取 .pickle 文件\n",
    "def load_pickle(file_path):\n",
    "    with open(file_path, 'rb') as file:\n",
    "        data = pickle.load(file)\n",
    "    return data\n",
    "\n",
    "# 保存数据到 .json 文件\n",
    "def save_to_json(data, json_path):\n",
    "    with open(json_path, 'w') as json_file:\n",
    "        # 将数据序列化为 JSON 格式并写入文件\n",
    "        json.dump(data, json_file, indent=4)\n",
    "\n",
    "# 使用示例\n",
    "pickle_file_path = '/data1/zjyang/program/peract_bimanual/data_ntu/zips/handover_keyframe/all_variations/episodes/episode0/low_dim_obs.pkl'  # 替换为实际的 .pickle 文件路径\n",
    "json_file_path = '/data1/zjyang/program/peract_bimanual/data_ntu/zips/handover_keyframe/all_variations/episodes/episode0/low_dim_obs.json'  # 保存的 .json 文件路径\n",
    "\n",
    "\n",
    "\n",
    "# 从 .pickle 文件中加载数据\n",
    "data = load_pickle(pickle_file_path)\n",
    "\n",
    "# 将数据保存为 .json 文件\n",
    "save_to_json(data, json_file_path)\n",
    "\n",
    "print(f\"Data has been saved to {json_file_path}\")\n"
   ]
  },
  {
   "cell_type": "code",
   "execution_count": 4,
   "metadata": {},
   "outputs": [
    {
     "name": "stdout",
     "output_type": "stream",
     "text": [
      "[BimanualObservation(perception_data={'left_shoulder_rgb': None, 'left_shoulder_depth': None, 'right_shoulder_rgb': None, 'right_shoulder_depth': None, 'overhead_rgb': None, 'overhead_depth': None, 'wrist_rgb': None, 'wrist_depth': None, 'front_rgb': None, 'front_depth': None}, task_low_dim_state=None, misc={'descriptions': ['handover the bowl to the other hand.'], 'front_camera_extrinsics': array([[ 0.9984647 , -0.01066009, -0.05435628,  0.41119387],\n",
      "       [ 0.05308204, -0.09627122,  0.9939387 , -1.28711702],\n",
      "       [-0.01582842, -0.99529805, -0.09555755,  0.33819046],\n",
      "       [ 0.        ,  0.        ,  0.        ,  1.        ]]), 'front_camera_intrinsics': array([[603.23144531,   0.        , 325.34805298],\n",
      "       [  0.        , 603.26080322, 251.16499329],\n",
      "       [  0.        ,   0.        ,   1.        ]]), 'front_camera_near': 0.0, 'front_camera_far': 1.2}, right=UnimanualObservationData(joint_velocities=array([0., 0., 0.]), joint_positions=None, joint_forces=None, gripper_open=0.0, gripper_pose=[0.20932259, -0.4174158, 0.24285056, 0.018767635304468143, 0.9995970609365887, 0.02072845988912197, 0.004880838312967304], gripper_matrix=None, gripper_joint_positions=array([200., 200.]), gripper_touch_forces=None, ignore_collisions=True), left=UnimanualObservationData(joint_velocities=array([0., 0., 0.]), joint_positions=None, joint_forces=None, gripper_open=0.0, gripper_pose=[0.6505156445503235, -0.38287216, 0.2254634, -0.07539622630854863, 0.9970039833221745, 0.016273348103974246, 0.005800382714449811], gripper_matrix=None, gripper_joint_positions=array([200., 200.]), gripper_touch_forces=None, ignore_collisions=True)), BimanualObservation(perception_data={'left_shoulder_rgb': None, 'left_shoulder_depth': None, 'right_shoulder_rgb': None, 'right_shoulder_depth': None, 'overhead_rgb': None, 'overhead_depth': None, 'wrist_rgb': None, 'wrist_depth': None, 'front_rgb': None, 'front_depth': None}, task_low_dim_state=None, misc={'descriptions': ['handover the bowl to the other hand.'], 'front_camera_extrinsics': array([[ 0.9984647 , -0.01066009, -0.05435628,  0.41119387],\n",
      "       [ 0.05308204, -0.09627122,  0.9939387 , -1.28711702],\n",
      "       [-0.01582842, -0.99529805, -0.09555755,  0.33819046],\n",
      "       [ 0.        ,  0.        ,  0.        ,  1.        ]]), 'front_camera_intrinsics': array([[603.23144531,   0.        , 325.34805298],\n",
      "       [  0.        , 603.26080322, 251.16499329],\n",
      "       [  0.        ,   0.        ,   1.        ]]), 'front_camera_near': 0.0, 'front_camera_far': 1.2}, right=UnimanualObservationData(joint_velocities=array([-0.0009039 , -0.00323832, -0.00053141], dtype=float32), joint_positions=None, joint_forces=None, gripper_open=0.0, gripper_pose=[0.33653727, -0.5088269, 0.032003272, -0.009172398746904748, 0.9682471462610829, -0.06991151447836447, 0.23984518131877985], gripper_matrix=None, gripper_joint_positions=array([194., 194.]), gripper_touch_forces=None, ignore_collisions=True), left=UnimanualObservationData(joint_velocities=array([-0.0671199 , -0.0014624 ,  0.01595214]), joint_positions=None, joint_forces=None, gripper_open=1.0, gripper_pose=[0.637757642865181, -0.44963893, 0.22659121, -0.07102658508672775, 0.9931452082471601, 0.003736423182235793, -0.09275698727549302], gripper_matrix=None, gripper_joint_positions=array([3., 3.]), gripper_touch_forces=None, ignore_collisions=True)), BimanualObservation(perception_data={'left_shoulder_rgb': None, 'left_shoulder_depth': None, 'right_shoulder_rgb': None, 'right_shoulder_depth': None, 'overhead_rgb': None, 'overhead_depth': None, 'wrist_rgb': None, 'wrist_depth': None, 'front_rgb': None, 'front_depth': None}, task_low_dim_state=None, misc={'descriptions': ['handover the bowl to the other hand.'], 'front_camera_extrinsics': array([[ 0.9984647 , -0.01066009, -0.05435628,  0.41119387],\n",
      "       [ 0.05308204, -0.09627122,  0.9939387 , -1.28711702],\n",
      "       [-0.01582842, -0.99529805, -0.09555755,  0.33819046],\n",
      "       [ 0.        ,  0.        ,  0.        ,  1.        ]]), 'front_camera_intrinsics': array([[603.23144531,   0.        , 325.34805298],\n",
      "       [  0.        , 603.26080322, 251.16499329],\n",
      "       [  0.        ,   0.        ,   1.        ]]), 'front_camera_near': 0.0, 'front_camera_far': 1.2}, right=UnimanualObservationData(joint_velocities=array([ 4.0829182e-05, -9.1195107e-05,  3.2782555e-05], dtype=float32), joint_positions=None, joint_forces=None, gripper_open=0.0, gripper_pose=[0.4059463, -0.49744633, 0.23587078, -0.012287634174119832, 0.8956063978849961, -0.07582793773120551, 0.4381647155731479], gripper_matrix=None, gripper_joint_positions=array([196., 196.]), gripper_touch_forces=None, ignore_collisions=True), left=UnimanualObservationData(joint_velocities=array([-0.00055656, -0.00390768,  0.00117525]), joint_positions=None, joint_forces=None, gripper_open=0.0, gripper_pose=[0.5656216877698899, -0.47008613, 0.24759737, -0.05828219125525075, 0.9679674246323999, 0.005449305668212532, -0.24415682685671547], gripper_matrix=None, gripper_joint_positions=array([200., 200.]), gripper_touch_forces=None, ignore_collisions=True))]\n"
     ]
    }
   ],
   "source": [
    "import pickle\n",
    "\n",
    "# 读取 .pickle 文件\n",
    "def load_pickle(file_path):\n",
    "    with open(file_path, 'rb') as file:\n",
    "        data = pickle.load(file)\n",
    "    return data\n",
    "\n",
    "# 使用示例\n",
    "# file_path = '/data1/zjyang/program/peract_bimanual/data2/train_data/bimanual_pick_laptop/all_variations/episodes/episode0/low_dim_obs.pkl'  # 替换为实际的文件路径\n",
    "file_path = '/data1/zjyang/program/peract_bimanual/data_ntu/zips/handover_keyframe/all_variations/episodes/episode0/low_dim_obs.pkl'  # 替换为实际的 .pickle 文件路径\n",
    "data = load_pickle(file_path)\n",
    "\n",
    "# 打印读取的数据\n",
    "print(data)"
   ]
  },
  {
   "cell_type": "code",
   "execution_count": 6,
   "metadata": {},
   "outputs": [
    {
     "name": "stdout",
     "output_type": "stream",
     "text": [
      "<rlbench.demo.Demo object at 0x73f1c6d264f0>\n"
     ]
    }
   ],
   "source": [
    "import pickle\n",
    "\n",
    "# 读取 .pickle 文件\n",
    "def load_pickle(file_path):\n",
    "    with open(file_path, 'rb') as file:\n",
    "        data = pickle.load(file)\n",
    "    return data\n",
    "\n",
    "# 使用示例\n",
    "file_path = '/data1/zjyang/program/peract_bimanual/data2/train_data/bimanual_pick_laptop/all_variations/episodes/episode0/low_dim_obs.pkl'  # 替换为实际的文件路径\n",
    "# file_path = '/data1/zjyang/program/peract_bimanual/data_ntu/zips/handover_keyframe/all_variations/episodes/episode0/low_dim_obs.pkl'  # 替换为实际的 .pickle 文件路径\n",
    "data = load_pickle(file_path)\n",
    "\n",
    "# 打印读取的数据\n",
    "print(data)"
   ]
  },
  {
   "cell_type": "code",
   "execution_count": 1,
   "metadata": {},
   "outputs": [
    {
     "name": "stdout",
     "output_type": "stream",
     "text": [
      "\u001b[32m[ObservationConfig] nerf_multi_view: True\u001b[0m\n",
      "\u001b[32m[ObservationConfig] nerf_multi_view: True\u001b[0m\n",
      "\u001b[32m[ObservationConfig] nerf_multi_view: True\u001b[0m\n"
     ]
    },
    {
     "ename": "TypeError",
     "evalue": "Object of type Demo is not JSON serializable",
     "output_type": "error",
     "traceback": [
      "\u001b[0;31m---------------------------------------------------------------------------\u001b[0m",
      "\u001b[0;31mTypeError\u001b[0m                                 Traceback (most recent call last)",
      "Cell \u001b[0;32mIn[1], line 26\u001b[0m\n\u001b[1;32m     23\u001b[0m data \u001b[38;5;241m=\u001b[39m load_pickle(pickle_file_path)\n\u001b[1;32m     25\u001b[0m \u001b[38;5;66;03m# 将数据保存为 .json 文件\u001b[39;00m\n\u001b[0;32m---> 26\u001b[0m \u001b[43msave_to_json\u001b[49m\u001b[43m(\u001b[49m\u001b[43mdata\u001b[49m\u001b[43m,\u001b[49m\u001b[43m \u001b[49m\u001b[43mjson_file_path\u001b[49m\u001b[43m)\u001b[49m\n\u001b[1;32m     28\u001b[0m \u001b[38;5;28mprint\u001b[39m(\u001b[38;5;124mf\u001b[39m\u001b[38;5;124m\"\u001b[39m\u001b[38;5;124mData has been saved to \u001b[39m\u001b[38;5;132;01m{\u001b[39;00mjson_file_path\u001b[38;5;132;01m}\u001b[39;00m\u001b[38;5;124m\"\u001b[39m)\n",
      "Cell \u001b[0;32mIn[1], line 14\u001b[0m, in \u001b[0;36msave_to_json\u001b[0;34m(data, json_path)\u001b[0m\n\u001b[1;32m     11\u001b[0m \u001b[38;5;28;01mdef\u001b[39;00m \u001b[38;5;21msave_to_json\u001b[39m(data, json_path):\n\u001b[1;32m     12\u001b[0m     \u001b[38;5;28;01mwith\u001b[39;00m \u001b[38;5;28mopen\u001b[39m(json_path, \u001b[38;5;124m'\u001b[39m\u001b[38;5;124mw\u001b[39m\u001b[38;5;124m'\u001b[39m) \u001b[38;5;28;01mas\u001b[39;00m json_file:\n\u001b[1;32m     13\u001b[0m         \u001b[38;5;66;03m# 将数据序列化为 JSON 格式并写入文件\u001b[39;00m\n\u001b[0;32m---> 14\u001b[0m         \u001b[43mjson\u001b[49m\u001b[38;5;241;43m.\u001b[39;49m\u001b[43mdump\u001b[49m\u001b[43m(\u001b[49m\u001b[43mdata\u001b[49m\u001b[43m,\u001b[49m\u001b[43m \u001b[49m\u001b[43mjson_file\u001b[49m\u001b[43m,\u001b[49m\u001b[43m \u001b[49m\u001b[43mindent\u001b[49m\u001b[38;5;241;43m=\u001b[39;49m\u001b[38;5;241;43m4\u001b[39;49m\u001b[43m)\u001b[49m\n",
      "File \u001b[0;32m~/anaconda3/envs/mani2/lib/python3.9/json/__init__.py:179\u001b[0m, in \u001b[0;36mdump\u001b[0;34m(obj, fp, skipkeys, ensure_ascii, check_circular, allow_nan, cls, indent, separators, default, sort_keys, **kw)\u001b[0m\n\u001b[1;32m    173\u001b[0m     iterable \u001b[38;5;241m=\u001b[39m \u001b[38;5;28mcls\u001b[39m(skipkeys\u001b[38;5;241m=\u001b[39mskipkeys, ensure_ascii\u001b[38;5;241m=\u001b[39mensure_ascii,\n\u001b[1;32m    174\u001b[0m         check_circular\u001b[38;5;241m=\u001b[39mcheck_circular, allow_nan\u001b[38;5;241m=\u001b[39mallow_nan, indent\u001b[38;5;241m=\u001b[39mindent,\n\u001b[1;32m    175\u001b[0m         separators\u001b[38;5;241m=\u001b[39mseparators,\n\u001b[1;32m    176\u001b[0m         default\u001b[38;5;241m=\u001b[39mdefault, sort_keys\u001b[38;5;241m=\u001b[39msort_keys, \u001b[38;5;241m*\u001b[39m\u001b[38;5;241m*\u001b[39mkw)\u001b[38;5;241m.\u001b[39miterencode(obj)\n\u001b[1;32m    177\u001b[0m \u001b[38;5;66;03m# could accelerate with writelines in some versions of Python, at\u001b[39;00m\n\u001b[1;32m    178\u001b[0m \u001b[38;5;66;03m# a debuggability cost\u001b[39;00m\n\u001b[0;32m--> 179\u001b[0m \u001b[38;5;28;01mfor\u001b[39;00m chunk \u001b[38;5;129;01min\u001b[39;00m iterable:\n\u001b[1;32m    180\u001b[0m     fp\u001b[38;5;241m.\u001b[39mwrite(chunk)\n",
      "File \u001b[0;32m~/anaconda3/envs/mani2/lib/python3.9/json/encoder.py:438\u001b[0m, in \u001b[0;36m_make_iterencode.<locals>._iterencode\u001b[0;34m(o, _current_indent_level)\u001b[0m\n\u001b[1;32m    436\u001b[0m         \u001b[38;5;28;01mraise\u001b[39;00m \u001b[38;5;167;01mValueError\u001b[39;00m(\u001b[38;5;124m\"\u001b[39m\u001b[38;5;124mCircular reference detected\u001b[39m\u001b[38;5;124m\"\u001b[39m)\n\u001b[1;32m    437\u001b[0m     markers[markerid] \u001b[38;5;241m=\u001b[39m o\n\u001b[0;32m--> 438\u001b[0m o \u001b[38;5;241m=\u001b[39m \u001b[43m_default\u001b[49m\u001b[43m(\u001b[49m\u001b[43mo\u001b[49m\u001b[43m)\u001b[49m\n\u001b[1;32m    439\u001b[0m \u001b[38;5;28;01myield from\u001b[39;00m _iterencode(o, _current_indent_level)\n\u001b[1;32m    440\u001b[0m \u001b[38;5;28;01mif\u001b[39;00m markers \u001b[38;5;129;01mis\u001b[39;00m \u001b[38;5;129;01mnot\u001b[39;00m \u001b[38;5;28;01mNone\u001b[39;00m:\n",
      "File \u001b[0;32m~/anaconda3/envs/mani2/lib/python3.9/json/encoder.py:179\u001b[0m, in \u001b[0;36mJSONEncoder.default\u001b[0;34m(self, o)\u001b[0m\n\u001b[1;32m    160\u001b[0m \u001b[38;5;28;01mdef\u001b[39;00m \u001b[38;5;21mdefault\u001b[39m(\u001b[38;5;28mself\u001b[39m, o):\n\u001b[1;32m    161\u001b[0m \u001b[38;5;250m    \u001b[39m\u001b[38;5;124;03m\"\"\"Implement this method in a subclass such that it returns\u001b[39;00m\n\u001b[1;32m    162\u001b[0m \u001b[38;5;124;03m    a serializable object for ``o``, or calls the base implementation\u001b[39;00m\n\u001b[1;32m    163\u001b[0m \u001b[38;5;124;03m    (to raise a ``TypeError``).\u001b[39;00m\n\u001b[0;32m   (...)\u001b[0m\n\u001b[1;32m    177\u001b[0m \n\u001b[1;32m    178\u001b[0m \u001b[38;5;124;03m    \"\"\"\u001b[39;00m\n\u001b[0;32m--> 179\u001b[0m     \u001b[38;5;28;01mraise\u001b[39;00m \u001b[38;5;167;01mTypeError\u001b[39;00m(\u001b[38;5;124mf\u001b[39m\u001b[38;5;124m'\u001b[39m\u001b[38;5;124mObject of type \u001b[39m\u001b[38;5;132;01m{\u001b[39;00mo\u001b[38;5;241m.\u001b[39m\u001b[38;5;18m__class__\u001b[39m\u001b[38;5;241m.\u001b[39m\u001b[38;5;18m__name__\u001b[39m\u001b[38;5;132;01m}\u001b[39;00m\u001b[38;5;124m \u001b[39m\u001b[38;5;124m'\u001b[39m\n\u001b[1;32m    180\u001b[0m                     \u001b[38;5;124mf\u001b[39m\u001b[38;5;124m'\u001b[39m\u001b[38;5;124mis not JSON serializable\u001b[39m\u001b[38;5;124m'\u001b[39m)\n",
      "\u001b[0;31mTypeError\u001b[0m: Object of type Demo is not JSON serializable"
     ]
    }
   ],
   "source": [
    "import pickle\n",
    "import json\n",
    "\n",
    "# 读取 .pickle 文件\n",
    "def load_pickle(file_path):\n",
    "    with open(file_path, 'rb') as file:\n",
    "        data = pickle.load(file)\n",
    "    return data\n",
    "\n",
    "# 保存数据到 .json 文件\n",
    "def save_to_json(data, json_path):\n",
    "    with open(json_path, 'w') as json_file:\n",
    "        # 将数据序列化为 JSON 格式并写入文件\n",
    "        json.dump(data, json_file, indent=4)\n",
    "\n",
    "# 使用示例\n",
    "pickle_file_path = '/data1/zjyang/program/peract_bimanual/data2/train_data/bimanual_pick_laptop/all_variations/episodes/episode0/low_dim_obs.pkl'  # 替换为实际的 .pickle 文件路径\n",
    "json_file_path = '/data1/zjyang/program/peract_bimanual/data2/train_data/bimanual_pick_laptop/all_variations/episodes/episode0/low_dim_obs.json'  # 保存的 .json 文件路径\n",
    "\n",
    "\n",
    "\n",
    "# 从 .pickle 文件中加载数据\n",
    "data = load_pickle(pickle_file_path)\n",
    "\n",
    "# 将数据保存为 .json 文件\n",
    "save_to_json(data, json_file_path)\n",
    "\n",
    "print(f\"Data has been saved to {json_file_path}\")\n"
   ]
  }
 ],
 "metadata": {
  "kernelspec": {
   "display_name": "mani2",
   "language": "python",
   "name": "python3"
  },
  "language_info": {
   "codemirror_mode": {
    "name": "ipython",
    "version": 3
   },
   "file_extension": ".py",
   "mimetype": "text/x-python",
   "name": "python",
   "nbconvert_exporter": "python",
   "pygments_lexer": "ipython3",
   "version": "3.9.20"
  }
 },
 "nbformat": 4,
 "nbformat_minor": 2
}
